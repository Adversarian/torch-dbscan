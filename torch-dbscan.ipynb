{
 "cells": [
  {
   "cell_type": "markdown",
   "metadata": {},
   "source": [
    "# 0. Imports and Toy Dataset Creation"
   ]
  },
  {
   "cell_type": "code",
   "execution_count": null,
   "metadata": {},
   "outputs": [],
   "source": [
    "import math\n",
    "import networkx as nx\n",
    "import torch\n",
    "from matplotlib import pyplot as plt\n",
    "from sklearn.datasets import make_blobs\n",
    "from sklearn.metrics import (\n",
    "    adjusted_mutual_info_score as AMI,\n",
    "    adjusted_rand_score as ARI,\n",
    ")"
   ]
  },
  {
   "cell_type": "code",
   "execution_count": null,
   "metadata": {},
   "outputs": [],
   "source": [
    "import numpy as np\n",
    "np.random.seed(42)"
   ]
  },
  {
   "cell_type": "code",
   "execution_count": null,
   "metadata": {},
   "outputs": [],
   "source": [
    "X, y, centroids_true = make_blobs(\n",
    "    n_samples=1000,\n",
    "    centers=5,\n",
    "    cluster_std=0.6,\n",
    "    return_centers=True\n",
    ")\n",
    "plt.scatter(X[:,0], X[:,1], c=y)"
   ]
  },
  {
   "cell_type": "markdown",
   "metadata": {},
   "source": [
    "# 1. First Attempt (Naive Implementation)"
   ]
  },
  {
   "cell_type": "code",
   "execution_count": null,
   "metadata": {},
   "outputs": [],
   "source": [
    "class DBSCAN:\n",
    "    def __init__(self, eps, minPts):\n",
    "        self._eps = eps\n",
    "        self._minPts = minPts\n",
    "\n",
    "    def fit(self, X):\n",
    "        pass\n",
    "\n",
    "    def score(self, X, y):\n",
    "        pass\n",
    "\n",
    "    def predict(self, X):\n",
    "        pass\n",
    "\n",
    "    def _construct_graph(self, X):\n",
    "        # store in a compact adj list\n",
    "        # Va and Ea\n",
    "        cardinality = len(X)\n",
    "        graph = nx.Graph()\n",
    "        graph.add_nodes_from(list(range(cardinality)), is_core=False)\n",
    "        for i in range(cardinality):\n",
    "            for j in range(i + 1, cardinality):\n",
    "                if self._distance(X[i], X[j]) <= self._eps:\n",
    "                    graph.add_edge(i, j)\n",
    "            if graph.degree[i] >= self._minPts:\n",
    "                graph.nodes[i][\"is_core\"] = True\n",
    "        self._graph = graph\n",
    "\n",
    "    @staticmethod\n",
    "    def _distance(p1, p2):\n",
    "        return np.linalg.norm(p1 - p2)\n"
   ]
  }
 ],
 "metadata": {
  "language_info": {
   "name": "python"
  },
  "orig_nbformat": 4
 },
 "nbformat": 4,
 "nbformat_minor": 2
}
