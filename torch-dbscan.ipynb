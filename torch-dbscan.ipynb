{
 "cells": [
  {
   "cell_type": "markdown",
   "metadata": {},
   "source": [
    "# 0. Imports and Toy Dataset Creation"
   ]
  },
  {
   "cell_type": "code",
   "execution_count": 1,
   "metadata": {},
   "outputs": [],
   "source": [
    "import networkx as nx\n",
    "import torch\n",
    "from collections import deque\n",
    "from matplotlib import pyplot as plt\n",
    "from sklearn.datasets import make_blobs\n",
    "from sklearn.metrics import (\n",
    "    adjusted_mutual_info_score as AMI,\n",
    "    adjusted_rand_score as ARI,\n",
    ")"
   ]
  },
  {
   "cell_type": "code",
   "execution_count": 2,
   "metadata": {},
   "outputs": [],
   "source": [
    "import numpy as np\n",
    "np.random.seed(42)"
   ]
  },
  {
   "cell_type": "code",
   "execution_count": 3,
   "metadata": {},
   "outputs": [
    {
     "data": {
      "image/png": "[encoded data removed]",
      "text/plain": [
       "<Figure size 432x288 with 1 Axes>"
      ]
     },
     "metadata": {
      "needs_background": "light"
     },
     "output_type": "display_data"
    }
   ],
   "source": [
    "X, y, centroids_true = make_blobs(\n",
    "    n_samples=1000,\n",
    "    centers=5,\n",
    "    cluster_std=0.6,\n",
    "    return_centers=True\n",
    ")\n",
    "plt.scatter(X[:,0], X[:,1], c=y);"
   ]
  },
  {
   "cell_type": "code",
   "execution_count": 4,
   "metadata": {},
   "outputs": [],
   "source": [
    "class DBSCANBase:\n",
    "    def __init__(self, eps, minPts):\n",
    "        self._eps = eps\n",
    "        self._minPts = minPts\n",
    "\n",
    "    def fit(self, X):\n",
    "        pass\n",
    "\n",
    "    def score(self, X, y):\n",
    "        y_pred = self.predict(X)\n",
    "        return (AMI(y, y_pred), ARI(y, y_pred))\n",
    "\n",
    "    def predict(self, X):\n",
    "        pass"
   ]
  },
  {
   "cell_type": "markdown",
   "metadata": {},
   "source": [
    "# 1. Naive Implementation Using BFS on Distance Graph"
   ]
  },
  {
   "cell_type": "markdown",
   "metadata": {},
   "source": [
    "This doesn't work yet although it should in theory, need to figure out why."
   ]
  },
  {
   "cell_type": "code",
   "execution_count": 5,
   "metadata": {},
   "outputs": [],
   "source": [
    "class DBSCANGraphBased(DBSCANBase):\n",
    "    def fit(self, X):\n",
    "        self._construct_graph(X)\n",
    "        self._get_clusters()\n",
    "        self._get_centroids(X)\n",
    "        self._cluster_outliers(X)\n",
    "\n",
    "    def predict(self, X):\n",
    "        y = []\n",
    "        for x in X:\n",
    "            distances = {\n",
    "                label: self._distance(x, centroid)\n",
    "                for label, centroid in self._centroids.items()\n",
    "            }\n",
    "            y.append(min(distances, key=distances.get))\n",
    "        return y\n",
    "\n",
    "    def _construct_graph(self, X):\n",
    "        cardinality = len(X)\n",
    "        graph = nx.Graph()\n",
    "        graph.add_nodes_from(\n",
    "            list(range(cardinality)), is_core=False, visited=False, cluster=None\n",
    "        )\n",
    "        for i in range(cardinality):\n",
    "            for j in range(i + 1, cardinality):\n",
    "                if self._distance(X[i], X[j]) < self._eps:\n",
    "                    graph.add_edge(i, j)\n",
    "            if graph.degree[i] >= self._minPts:\n",
    "                graph.nodes[i][\"is_core\"] = True\n",
    "        self._graph = graph\n",
    "\n",
    "    def _get_clusters(self):\n",
    "        cluster_label = 0\n",
    "        for node in self._graph:\n",
    "            if not self._graph.nodes[node][\"visited\"] and self._graph.nodes[node][\n",
    "                \"is_core\"\n",
    "            ]:\n",
    "                self._graph.nodes[node][\"visited\"] = True\n",
    "                self._graph.nodes[node][\"cluster\"] = cluster_label\n",
    "                self._bfs_node(node, cluster_label)\n",
    "                cluster_label += 1\n",
    "        self._num_clusters = cluster_label\n",
    "\n",
    "    def _bfs_node(self, source, cluster_label):\n",
    "        neighbors = self._graph.neighbors\n",
    "        queue = deque([(source, len(self._graph), neighbors(source))])\n",
    "        while queue:\n",
    "            _, depth_now, children = queue[0]\n",
    "            try:\n",
    "                child = next(children)\n",
    "                if not self._graph.nodes[child][\"visited\"]:\n",
    "                    self._graph.nodes[child][\"visited\"] = True\n",
    "                    self._graph.nodes[child][\"cluster\"] = cluster_label\n",
    "                    if depth_now > 1:\n",
    "                        queue.append((child, depth_now - 1, neighbors(child)))\n",
    "            except StopIteration:\n",
    "                queue.popleft()\n",
    "\n",
    "    def _get_centroids(self, X):\n",
    "        self._centroids = {}\n",
    "        for i in range(self._num_clusters):\n",
    "            X_list = []\n",
    "            for node in self._graph:\n",
    "                if self._graph.nodes[node][\"cluster\"] == i:\n",
    "                    X_list.append(X[i])\n",
    "            self._centroids.update({i: np.mean(X_list, axis=0)})\n",
    "\n",
    "    def _cluster_outliers(self, X):\n",
    "        for node in self._graph:\n",
    "            if self._graph.nodes[node][\"cluster\"] is None:\n",
    "                self._graph.nodes[node][\"cluster\"] = self.predict(X[node])\n",
    "\n",
    "    @staticmethod\n",
    "    def _distance(p1, p2):\n",
    "        return np.linalg.norm(p1 - p2)\n"
   ]
  },
  {
   "cell_type": "code",
   "execution_count": 6,
   "metadata": {},
   "outputs": [
    {
     "name": "stdout",
     "output_type": "stream",
     "text": [
      "AMI: 0.6797035317782859, ARI: 0.4098461733341914\n"
     ]
    },
    {
     "data": {
      "image/png": "[encoded data removed]",
      "text/plain": [
       "<Figure size 432x288 with 1 Axes>"
      ]
     },
     "metadata": {
      "needs_background": "light"
     },
     "output_type": "display_data"
    }
   ],
   "source": [
    "clusterer = DBSCANGraphBased(0.4, 2*X.shape[1])\n",
    "clusterer.fit(X)\n",
    "ami, ari = clusterer.score(X, y)\n",
    "print(f'AMI: {ami}, ARI: {ari}')\n",
    "y_pred = clusterer.predict(X)\n",
    "best_centroids = np.array(\n",
    "    [centroid for centroid in clusterer._centroids.values()]\n",
    ")\n",
    "plt.scatter(X[:,0], X[:,1], c=y_pred);\n",
    "plt.scatter(best_centroids[:,0], best_centroids[:,1], marker='+', color='red');"
   ]
  },
  {
   "cell_type": "code",
   "execution_count": 7,
   "metadata": {},
   "outputs": [
    {
     "name": "stdout",
     "output_type": "stream",
     "text": [
      "1.29 s ± 4.4 ms per loop (mean ± std. dev. of 7 runs, 1 loop each)\n"
     ]
    }
   ],
   "source": [
    "%timeit DBSCANGraphBased(0.4, 2*X.shape[1]).fit(X)"
   ]
  },
  {
   "cell_type": "markdown",
   "metadata": {},
   "source": [
    "# 2. Vectorized Implementation With Implicit DFS on Distance Matrix"
   ]
  },
  {
   "cell_type": "code",
   "execution_count": 8,
   "metadata": {},
   "outputs": [],
   "source": [
    "class DBSCANVectorized(DBSCANBase):\n",
    "    def fit(self, X):\n",
    "        dist_matrix = self._get_distance_matrix(X)\n",
    "\n",
    "        # initialization\n",
    "        cluster = 1\n",
    "        n_objs = X.shape[0]\n",
    "        labels = np.zeros(n_objs)\n",
    "\n",
    "        for i in range(n_objs):\n",
    "            if not labels[i]:\n",
    "                neighbors = self._get_nearest_neighbours(dist_matrix[i])\n",
    "                if (\n",
    "                    len(neighbors) > self._minPts\n",
    "                ):  # not >= because self is included in neighbours\n",
    "                    labels[i] = cluster\n",
    "                    labels = self._expand_cluster(\n",
    "                        dist_matrix, neighbors, cluster, labels\n",
    "                    )\n",
    "                    cluster += 1\n",
    "\n",
    "        self._centroids = self._get_centroids(X, labels, cluster - 1)\n",
    "        return labels\n",
    "\n",
    "    def predict(self, X):\n",
    "        X = X[None, ...]\n",
    "        centroids = self._centroids[:, None, ...]\n",
    "        all_diff = X - centroids\n",
    "        all_dist = np.sqrt(np.einsum(\"...k, ...k -> ...\", all_diff, all_diff))\n",
    "        return np.argmin(all_dist, axis=0)\n",
    "\n",
    "    @staticmethod\n",
    "    def _get_distance_matrix(X):\n",
    "        # reimplement cdist\n",
    "        diff_mat = X[:, None] - X[None, :]\n",
    "        return np.sqrt(np.einsum(\"...k, ...k -> ...\", diff_mat, diff_mat))\n",
    "\n",
    "    def _get_centroids(self, X, labels, last_cluster):\n",
    "        return np.array(\n",
    "            [\n",
    "                np.mean(X[np.where(labels == i)], axis=0)\n",
    "                for i in range(1, last_cluster + 1)\n",
    "            ]\n",
    "        )\n",
    "\n",
    "    def _get_nearest_neighbours(self, x):\n",
    "        return np.where(x <= self._eps)[0]\n",
    "\n",
    "    def _expand_cluster(self, X, neighbors, cluster, labels):\n",
    "        for neighbor in neighbors:\n",
    "            if not labels[neighbor]:  # if point is unassigned\n",
    "                neighbors_of_neighbor = self._get_nearest_neighbours(X[neighbor])\n",
    "                if len(neighbors_of_neighbor) >= self._minPts:  # if point is core\n",
    "                    labels[neighbor] = cluster\n",
    "                    labels = self._expand_cluster(\n",
    "                        X, neighbors_of_neighbor, cluster, labels\n",
    "                    )\n",
    "        return labels\n"
   ]
  },
  {
   "cell_type": "code",
   "execution_count": 9,
   "metadata": {},
   "outputs": [
    {
     "name": "stdout",
     "output_type": "stream",
     "text": [
      "AMI: 0.9960669625875377, ARI: 0.9974962343264018\n"
     ]
    },
    {
     "data": {
      "image/png": "[encoded data removed]",
      "text/plain": [
       "<Figure size 432x288 with 1 Axes>"
      ]
     },
     "metadata": {
      "needs_background": "light"
     },
     "output_type": "display_data"
    }
   ],
   "source": [
    "clusterer = DBSCANVectorized(0.4, 2*X.shape[1])\n",
    "clusterer.fit(X)\n",
    "ami, ari = clusterer.score(X, y)\n",
    "print(f'AMI: {ami}, ARI: {ari}')\n",
    "y_pred = clusterer.predict(X)\n",
    "best_centroids = np.array(\n",
    "    [centroid for centroid in clusterer._centroids]\n",
    ")\n",
    "plt.scatter(X[:,0], X[:,1], c=y_pred);\n",
    "plt.scatter(best_centroids[:,0], best_centroids[:,1], marker='+', color='red');"
   ]
  },
  {
   "cell_type": "code",
   "execution_count": 10,
   "metadata": {},
   "outputs": [
    {
     "name": "stdout",
     "output_type": "stream",
     "text": [
      "24.5 ms ± 93.8 µs per loop (mean ± std. dev. of 7 runs, 10 loops each)\n"
     ]
    }
   ],
   "source": [
    "%timeit DBSCANVectorized(0.4, 2*X.shape[1]).fit(X)"
   ]
  },
  {
   "cell_type": "markdown",
   "metadata": {},
   "source": [
    "# 3. GPU Accelerated Implementation"
   ]
  },
  {
   "cell_type": "code",
   "execution_count": 11,
   "metadata": {},
   "outputs": [],
   "source": [
    "class DBSCANTorch(DBSCANBase): # TODO: Why is this slower than numpy?\n",
    "    def fit(self, X):\n",
    "        self._X = torch.tensor(X, device=\"cuda\")\n",
    "\n",
    "        dist_matrix = self._get_distance_matrix()\n",
    "\n",
    "        # initialization\n",
    "        cluster = 1\n",
    "        n_objs = self._X.shape[0]\n",
    "        labels = torch.zeros(n_objs, device=\"cuda\")\n",
    "\n",
    "        for i in range(n_objs):\n",
    "            if not labels[i]:\n",
    "                neighbors = self._get_nearest_neighbours(dist_matrix[i])\n",
    "                if (\n",
    "                    len(neighbors) > self._minPts\n",
    "                ):  # not >= because self is included in neighbours\n",
    "                    labels[i] = cluster\n",
    "                    labels = self._expand_cluster(\n",
    "                        dist_matrix, neighbors, cluster, labels\n",
    "                    )\n",
    "                    cluster += 1\n",
    "\n",
    "        self._centroids = self._get_centroids(labels, cluster - 1)\n",
    "        return labels\n",
    "\n",
    "    def predict(self, X, as_numpy=True):\n",
    "        X = torch.tensor(X[None, ...], device=\"cuda\")\n",
    "        centroids = self._centroids[:, None, ...]\n",
    "        all_diff = X - centroids\n",
    "        all_dist = torch.einsum(\"...k, ...k -> ...\", all_diff, all_diff).sqrt()\n",
    "        preds = torch.argmin(all_dist, dim=0)\n",
    "        if as_numpy:\n",
    "            return preds.cpu().numpy()\n",
    "        else:\n",
    "            return preds\n",
    "    \n",
    "    def _get_distance_matrix(self):\n",
    "        # reimplement cdist\n",
    "        diff_mat = self._X[:, None] - self._X[None, :]\n",
    "        return torch.einsum(\"...k, ...k -> ...\", diff_mat, diff_mat).sqrt()\n",
    "\n",
    "    def _get_centroids(self, labels, last_cluster):\n",
    "        return torch.stack(\n",
    "            [\n",
    "                self._X[torch.where(labels == i)].mean(dim=0)\n",
    "                for i in range(1, last_cluster + 1)\n",
    "            ]\n",
    "        )\n",
    "\n",
    "    def _get_nearest_neighbours(self, x):\n",
    "        return torch.where(x <= self._eps)[0]\n",
    "\n",
    "    def _expand_cluster(self, X, neighbors, cluster, labels):\n",
    "        for neighbor in neighbors:\n",
    "            if not labels[neighbor]:  # if point is unassigned\n",
    "                neighbors_of_neighbor = self._get_nearest_neighbours(X[neighbor])\n",
    "                if len(neighbors_of_neighbor) >= self._minPts:  # if point is core\n",
    "                    labels[neighbor] = cluster\n",
    "                    labels = self._expand_cluster(\n",
    "                        X, neighbors_of_neighbor, cluster, labels\n",
    "                    )\n",
    "        return labels"
   ]
  },
  {
   "cell_type": "code",
   "execution_count": 12,
   "metadata": {},
   "outputs": [
    {
     "name": "stdout",
     "output_type": "stream",
     "text": [
      "AMI: 0.9960669625875377, ARI: 0.9974962343264018\n"
     ]
    },
    {
     "data": {
      "image/png": "[encoded data removed]",
      "text/plain": [
       "<Figure size 432x288 with 1 Axes>"
      ]
     },
     "metadata": {
      "needs_background": "light"
     },
     "output_type": "display_data"
    }
   ],
   "source": [
    "clusterer = DBSCANTorch(0.4, 2*X.shape[1])\n",
    "clusterer.fit(X)\n",
    "ami, ari = clusterer.score(X, y)\n",
    "print(f'AMI: {ami}, ARI: {ari}')\n",
    "y_pred = clusterer.predict(X)\n",
    "best_centroids = np.array(\n",
    "    [centroid for centroid in clusterer._centroids.cpu().numpy()]\n",
    ")\n",
    "plt.scatter(X[:,0], X[:,1], c=y_pred);\n",
    "plt.scatter(best_centroids[:,0], best_centroids[:,1], marker='+', color='red');"
   ]
  },
  {
   "cell_type": "code",
   "execution_count": 13,
   "metadata": {},
   "outputs": [
    {
     "name": "stdout",
     "output_type": "stream",
     "text": [
      "396 ms ± 3.99 ms per loop (mean ± std. dev. of 7 runs, 1 loop each)\n"
     ]
    }
   ],
   "source": [
    "%timeit DBSCANTorch(0.4, 2*X.shape[1]).fit(X)"
   ]
  }
 ],
 "metadata": {
  "kernelspec": {
   "display_name": "Python 3",
   "language": "python",
   "name": "python3"
  },
  "language_info": {
   "codemirror_mode": {
    "name": "ipython",
    "version": 3
   },
   "file_extension": ".py",
   "mimetype": "text/x-python",
   "name": "python",
   "nbconvert_exporter": "python",
   "pygments_lexer": "ipython3",
   "version": "3.10.12"
  },
  "orig_nbformat": 4
 },
 "nbformat": 4,
 "nbformat_minor": 2
}
