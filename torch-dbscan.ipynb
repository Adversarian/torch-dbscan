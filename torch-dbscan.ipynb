{
 "cells": [
  {
   "cell_type": "markdown",
   "metadata": {},
   "source": [
    "# 0. Imports and Toy Dataset Creation"
   ]
  },
  {
   "cell_type": "code",
   "execution_count": 20,
   "metadata": {},
   "outputs": [],
   "source": [
    "import math\n",
    "import networkx as nx\n",
    "import torch\n",
    "from collections import deque\n",
    "from matplotlib import pyplot as plt\n",
    "from sklearn.datasets import make_blobs\n",
    "from sklearn.metrics import (\n",
    "    adjusted_mutual_info_score as AMI,\n",
    "    adjusted_rand_score as ARI,\n",
    ")"
   ]
  },
  {
   "cell_type": "code",
   "execution_count": 21,
   "metadata": {},
   "outputs": [],
   "source": [
    "import numpy as np\n",
    "np.random.seed(42)"
   ]
  },
  {
   "cell_type": "code",
   "execution_count": 22,
   "metadata": {},
   "outputs": [
    {
     "data": {
      "image/png": "[encoded data removed]",
      "text/plain": [
       "<Figure size 432x288 with 1 Axes>"
      ]
     },
     "metadata": {
      "needs_background": "light"
     },
     "output_type": "display_data"
    }
   ],
   "source": [
    "X, y, centroids_true = make_blobs(\n",
    "    n_samples=1000,\n",
    "    centers=5,\n",
    "    cluster_std=0.6,\n",
    "    return_centers=True\n",
    ")\n",
    "plt.scatter(X[:,0], X[:,1], c=y);"
   ]
  },
  {
   "cell_type": "markdown",
   "metadata": {},
   "source": [
    "# 1. Naive Implementation"
   ]
  },
  {
   "cell_type": "code",
   "execution_count": 23,
   "metadata": {},
   "outputs": [],
   "source": [
    "class DBSCAN:\n",
    "    def __init__(self, eps, minPts):\n",
    "        self._eps = eps\n",
    "        self._minPts = minPts\n",
    "\n",
    "    def fit(self, X):\n",
    "        self._construct_graph(X)\n",
    "        self._get_clusters()\n",
    "        self._get_centroids(X)\n",
    "        self._cluster_outliers(X)\n",
    "\n",
    "    def score(self, X, y):\n",
    "        y_pred = self.predict(X)\n",
    "        return (AMI(y, y_pred), ARI(y, y_pred))\n",
    "\n",
    "    def predict(self, X):\n",
    "        y = []\n",
    "        for x in X:\n",
    "            distances = {\n",
    "                label: self._distance(x, centroid)\n",
    "                for label, centroid in self._centroids.items()\n",
    "            }\n",
    "            y.append(min(distances, key=distances.get))\n",
    "        return y\n",
    "\n",
    "    def _construct_graph(self, X):\n",
    "        cardinality = len(X)\n",
    "        graph = nx.Graph()\n",
    "        graph.add_nodes_from(\n",
    "            list(range(cardinality)), is_core=False, visited=False, cluster=None\n",
    "        )\n",
    "        for i in range(cardinality):\n",
    "            for j in range(i + 1, cardinality):\n",
    "                if self._distance(X[i], X[j]) < self._eps:\n",
    "                    graph.add_edge(i, j)\n",
    "            if graph.degree[i] >= self._minPts:\n",
    "                graph.nodes[i][\"is_core\"] = True\n",
    "        self._graph = graph\n",
    "\n",
    "    def _get_clusters(self):\n",
    "        cluster_label = 0\n",
    "        for node in self._graph:\n",
    "            if not self._graph.nodes[node][\"visited\"] and self._graph.nodes[node][\n",
    "                \"is_core\"\n",
    "            ]:\n",
    "                self._graph.nodes[node][\"visited\"] = True\n",
    "                self._graph.nodes[node][\"cluster\"] = cluster_label\n",
    "                self._bfs_node(node, cluster_label)\n",
    "                cluster_label += 1\n",
    "        self._num_clusters = cluster_label\n",
    "\n",
    "    def _bfs_node(self, source, cluster_label):\n",
    "        neighbors = self._graph.neighbors\n",
    "        queue = deque([(source, len(self._graph), neighbors(source))])\n",
    "        while queue:\n",
    "            _, depth_now, children = queue[0]\n",
    "            try:\n",
    "                child = next(children)\n",
    "                if not self._graph.nodes[child][\"visited\"]:\n",
    "                    self._graph.nodes[child][\"visited\"] = True\n",
    "                    self._graph.nodes[child][\"cluster\"] = cluster_label\n",
    "                    if depth_now > 1:\n",
    "                        queue.append((child, depth_now - 1, neighbors(child)))\n",
    "            except StopIteration:\n",
    "                queue.popleft()\n",
    "\n",
    "    def _get_centroids(self, X):\n",
    "        self._centroids = {}\n",
    "        for i in range(self._num_clusters):\n",
    "            X_list = []\n",
    "            for node in self._graph:\n",
    "                if self._graph.nodes[node][\"cluster\"] == i:\n",
    "                    X_list.append(X[i])\n",
    "            self._centroids.update({i: np.mean(X_list, axis=0)})\n",
    "\n",
    "    def _cluster_outliers(self, X):\n",
    "        for node in self._graph:\n",
    "            if self._graph.nodes[node][\"cluster\"] is None:\n",
    "                self._graph.nodes[node][\"cluster\"] = self.predict(X[node])\n",
    "\n",
    "    @staticmethod\n",
    "    def _distance(p1, p2):\n",
    "        return np.linalg.norm(p1 - p2)\n"
   ]
  },
  {
   "cell_type": "code",
   "execution_count": 24,
   "metadata": {},
   "outputs": [
    {
     "name": "stdout",
     "output_type": "stream",
     "text": [
      "AMI: 0.5165726952659874, ARI: 0.31735800955175525\n"
     ]
    },
    {
     "data": {
      "image/png": "[encoded data removed]",
      "text/plain": [
       "<Figure size 432x288 with 1 Axes>"
      ]
     },
     "metadata": {
      "needs_background": "light"
     },
     "output_type": "display_data"
    }
   ],
   "source": [
    "clusterer = DBSCAN(1, 2*X.shape[1])\n",
    "clusterer.fit(X)\n",
    "ami, ari = clusterer.score(X, y)\n",
    "print(f'AMI: {ami}, ARI: {ari}')\n",
    "y_pred = clusterer.predict(X)\n",
    "best_centroids = np.array(\n",
    "    [centroid for centroid in clusterer._centroids.values()]\n",
    ")\n",
    "plt.scatter(X[:,0], X[:,1], c=y_pred);\n",
    "plt.scatter(best_centroids[:,0], best_centroids[:,1], marker='+', color='red');"
   ]
  },
  {
   "cell_type": "markdown",
   "metadata": {},
   "source": [
    "# 2. Vectorized Implementation"
   ]
  },
  {
   "cell_type": "code",
   "execution_count": null,
   "metadata": {},
   "outputs": [],
   "source": []
  },
  {
   "cell_type": "markdown",
   "metadata": {},
   "source": [
    "# 3. GPU Accelerated Implementation"
   ]
  },
  {
   "cell_type": "code",
   "execution_count": null,
   "metadata": {},
   "outputs": [],
   "source": []
  }
 ],
 "metadata": {
  "kernelspec": {
   "display_name": "Python 3",
   "language": "python",
   "name": "python3"
  },
  "language_info": {
   "codemirror_mode": {
    "name": "ipython",
    "version": 3
   },
   "file_extension": ".py",
   "mimetype": "text/x-python",
   "name": "python",
   "nbconvert_exporter": "python",
   "pygments_lexer": "ipython3",
   "version": "3.10.12"
  },
  "orig_nbformat": 4
 },
 "nbformat": 4,
 "nbformat_minor": 2
}
